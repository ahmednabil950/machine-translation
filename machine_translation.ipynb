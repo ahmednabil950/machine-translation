{
 "cells": [
  {
   "cell_type": "code",
   "execution_count": 1,
   "metadata": {
    "ExecuteTime": {
     "end_time": "2020-02-12T12:50:08.701769Z",
     "start_time": "2020-02-12T12:49:34.663411Z"
    }
   },
   "outputs": [],
   "source": [
    "import torch\n",
    "import torch.nn as nn\n",
    "from torch import optim\n",
    "import torch.nn.functional as F\n",
    "\n",
    "from network import EncoderRNN, DecoderRNN\n",
    "from dataset import prepare_dataset, index_to_tensor, FILES"
   ]
  },
  {
   "cell_type": "code",
   "execution_count": null,
   "metadata": {
    "ExecuteTime": {
     "end_time": "2020-02-12T12:50:08.707314Z",
     "start_time": "2020-02-12T12:49:34.952Z"
    }
   },
   "outputs": [],
   "source": [
    "def train(input_tensor, output_tensor, embed_size=100, learning_rate=0.01, device='cpu'):\n",
    "    input_size = input_tensor.size(0)\n",
    "    output_size = output_tensor.size(0)\n",
    "    encoder = EncoderRNN(input_size, embed_size)\n",
    "    decoder = DecoderRNN(embed_size, output_size)\n",
    "\n",
    "    encoder_optimizer = optim.SGD(encoder.parameters(), lr=learning_rate)\n",
    "    decoder_optimizer = optim.SGD(decoder.parameters(), lr=learning_rate)\n",
    "\n",
    "    loss = 0.0\n",
    "    criterion = nn.NLLLoss()\n",
    "    ht_encoder = encoder.initHidden()\n",
    "    ht_decoder = decoder.initHidden()\n",
    "\n",
    "    encoder_outputs = torch.zeros(input_tensor.size(1), encoder.hidden_size, device=device)\n",
    "    \n",
    "    ## Encode the input information\n",
    "    for i_seq in range(input_size):\n",
    "        sequence = input_tensor[i_seq]\n",
    "        encoder_out, ht_encoder = encoder(sequence, ht_encoder)\n",
    "        print(encoder_out.shape)\n",
    "        print(ht_encoder.shape)"
   ]
  },
  {
   "cell_type": "code",
   "execution_count": null,
   "metadata": {
    "ExecuteTime": {
     "end_time": "2020-02-12T12:50:08.709336Z",
     "start_time": "2020-02-12T12:49:36.482Z"
    }
   },
   "outputs": [],
   "source": [
    "FILES_ABS_PATH = ('./data/'+FILES['en'], './data/'+FILES['ar'])\n",
    "dataset = prepare_dataset(*FILES_ABS_PATH)\n",
    "tensors = index_to_tensor(dataset['pairs_index'])"
   ]
  },
  {
   "cell_type": "code",
   "execution_count": null,
   "metadata": {
    "ExecuteTime": {
     "end_time": "2020-02-12T12:50:08.711113Z",
     "start_time": "2020-02-12T12:49:44.484Z"
    }
   },
   "outputs": [],
   "source": [
    "print(tensors['input'].shape)\n",
    "print(tensors['target'].shape)"
   ]
  },
  {
   "cell_type": "code",
   "execution_count": null,
   "metadata": {
    "ExecuteTime": {
     "end_time": "2020-02-12T12:50:08.712568Z",
     "start_time": "2020-02-12T12:49:48.403Z"
    }
   },
   "outputs": [],
   "source": [
    "input_tensor = tensors['input']\n",
    "target_tensor = tensors['target']\n",
    "embed_size = 100\n",
    "learning_rate = 0.01\n",
    "\n",
    "train(input_tensor, target_tensor, embed_size, learning_rate)"
   ]
  },
  {
   "cell_type": "code",
   "execution_count": 14,
   "metadata": {
    "ExecuteTime": {
     "end_time": "2020-02-08T19:28:06.795369Z",
     "start_time": "2020-02-08T19:28:06.680990Z"
    }
   },
   "outputs": [
    {
     "data": {
      "text/plain": [
       "torch.Size([3176, 19])"
      ]
     },
     "execution_count": 14,
     "metadata": {},
     "output_type": "execute_result"
    }
   ],
   "source": [
    "input_tensor.shape"
   ]
  },
  {
   "cell_type": "code",
   "execution_count": null,
   "metadata": {},
   "outputs": [],
   "source": []
  }
 ],
 "metadata": {
  "kernelspec": {
   "display_name": "Python 3",
   "language": "python",
   "name": "python3"
  },
  "language_info": {
   "codemirror_mode": {
    "name": "ipython",
    "version": 3
   },
   "file_extension": ".py",
   "mimetype": "text/x-python",
   "name": "python",
   "nbconvert_exporter": "python",
   "pygments_lexer": "ipython3",
   "version": "3.6.9"
  }
 },
 "nbformat": 4,
 "nbformat_minor": 2
}
